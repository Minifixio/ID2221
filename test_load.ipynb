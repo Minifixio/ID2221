{
 "cells": [
  {
   "cell_type": "code",
   "execution_count": 1,
   "id": "503f381f-162a-4a11-a621-c11aa8198a53",
   "metadata": {},
   "outputs": [
    {
     "data": {
      "text/plain": [
       "Intitializing Scala interpreter ..."
      ]
     },
     "metadata": {},
     "output_type": "display_data"
    },
    {
     "data": {
      "text/plain": [
       "Spark Web UI available at http://192.168.0.85:4040\n",
       "SparkContext available as 'sc' (version = 3.5.3, master = local[*], app id = local-1728994369382)\n",
       "SparkSession available as 'spark'\n"
      ]
     },
     "metadata": {},
     "output_type": "display_data"
    },
    {
     "name": "stdout",
     "output_type": "stream",
     "text": [
      "Hello\n"
     ]
    }
   ],
   "source": [
    "println(\"Is Scala working ?\")"
   ]
  },
  {
   "cell_type": "code",
   "execution_count": 2,
   "id": "38af41fc-67fd-478a-beae-e709905c9d7d",
   "metadata": {},
   "outputs": [
    {
     "data": {
      "text/plain": [
       "import org.apache.spark.sql.SparkSession\n",
       "import org.apache.spark.sql.functions._\n",
       "import org.apache.spark.graphx._\n",
       "import org.apache.spark.rdd.RDD\n"
      ]
     },
     "execution_count": 2,
     "metadata": {},
     "output_type": "execute_result"
    }
   ],
   "source": [
    "import org.apache.spark.sql.SparkSession\n",
    "import org.apache.spark.sql.functions._\n",
    "import org.apache.spark.graphx._\n",
    "import org.apache.spark.rdd.RDD"
   ]
  },
  {
   "cell_type": "code",
   "execution_count": 3,
   "id": "afcc7b6f-c1e0-4251-b1e9-19b63c747c3d",
   "metadata": {},
   "outputs": [
    {
     "data": {
      "text/plain": [
       "spark: org.apache.spark.sql.SparkSession = org.apache.spark.sql.SparkSession@2e05550e\n",
       "import spark.implicits._\n"
      ]
     },
     "execution_count": 3,
     "metadata": {},
     "output_type": "execute_result"
    }
   ],
   "source": [
    "val spark = SparkSession.builder()\n",
    "    .appName(\"AcademicGraphAnalysis\")\n",
    "    .getOrCreate()\n",
    "spark.conf.set(\"spark.sql.caseSensitive\", true)\n",
    "import spark.implicits._"
   ]
  },
  {
   "cell_type": "code",
   "execution_count": 6,
   "id": "bc865a9a-1be4-4eec-958b-c03258255996",
   "metadata": {},
   "outputs": [
    {
     "name": "stdout",
     "output_type": "stream",
     "text": [
      "root\n",
      " |-- id: string (nullable = true)\n",
      " |-- title: string (nullable = true)\n",
      " |-- doi: string (nullable = true)\n",
      " |-- keywords: array (nullable = true)\n",
      " |    |-- element: string (containsNull = true)\n",
      " |-- n_citation: long (nullable = true)\n",
      " |-- year: long (nullable = true)\n",
      " |-- issn: string (nullable = true)\n",
      " |-- url: array (nullable = true)\n",
      " |    |-- element: string (containsNull = true)\n",
      " |-- abstract: string (nullable = true)\n",
      " |-- authors: array (nullable = true)\n",
      " |    |-- element: struct (containsNull = true)\n",
      " |    |    |-- id: string (nullable = true)\n",
      " |    |    |-- name: string (nullable = true)\n",
      " |    |    |-- org: string (nullable = true)\n",
      " |-- doc_type: string (nullable = true)\n",
      " |-- v12_authors: array (nullable = true)\n",
      " |    |-- element: struct (containsNull = true)\n",
      " |    |    |-- id: long (nullable = true)\n",
      " |    |    |-- name: string (nullable = true)\n",
      " |    |    |-- org: string (nullable = true)\n",
      " |-- references: array (nullable = true)\n",
      " |    |-- element: string (containsNull = true)\n",
      " |-- v12_id: long (nullable = true)\n",
      "\n",
      "+------------------------+-----------------------------------------------------------+------------------------+----------------------------------------------------------------------------------------------------------------------------------------------------------------------------------------------------------------------------------------------------------------------------------------------------------------------------------------------------------------------------------+----------+----+------------------------------------+-----------------------------------------------------------------------------------------------------------------------------------------------------+--------------------------------------------------------------------------------------------------------------------------------------------------------------------------------------------------------------------------------------------------------------------------------------------------------------------------------------------------------------------------------------------------------------------------------------------------------------------------------------------------------------------------------------------------------------------------------------------------------------------------------------------+------------------------------------------------------------------------------------------------------------------------------------------------------------------------------------------------------------------------------------------------------------------------------------------------------------------------------------------------------------------------------------------------+----------+-------------------------------------------------------------------------------------------------------------------------------------------------------------------------------------------------------------------------------------------------------------------------------------------------------------------------------------------+------------------------------------------------------------------------------------------------------------------------------------------------------------+----------+\n",
      "|id                      |title                                                      |doi                     |keywords                                                                                                                                                                                                                                                                                                                                                                          |n_citation|year|issn                                |url                                                                                                                                                  |abstract                                                                                                                                                                                                                                                                                                                                                                                                                                                                                                                                                                                                                                    |authors                                                                                                                                                                                                                                                                                                                                                                                         |doc_type  |v12_authors                                                                                                                                                                                                                                                                                                                                |references                                                                                                                                                  |v12_id    |\n",
      "+------------------------+-----------------------------------------------------------+------------------------+----------------------------------------------------------------------------------------------------------------------------------------------------------------------------------------------------------------------------------------------------------------------------------------------------------------------------------------------------------------------------------+----------+----+------------------------------------+-----------------------------------------------------------------------------------------------------------------------------------------------------+--------------------------------------------------------------------------------------------------------------------------------------------------------------------------------------------------------------------------------------------------------------------------------------------------------------------------------------------------------------------------------------------------------------------------------------------------------------------------------------------------------------------------------------------------------------------------------------------------------------------------------------------+------------------------------------------------------------------------------------------------------------------------------------------------------------------------------------------------------------------------------------------------------------------------------------------------------------------------------------------------------------------------------------------------+----------+-------------------------------------------------------------------------------------------------------------------------------------------------------------------------------------------------------------------------------------------------------------------------------------------------------------------------------------------+------------------------------------------------------------------------------------------------------------------------------------------------------------+----------+\n",
      "|558b11bde4b031bae1fb5972|Close target reconnaissance using autonomous UAV formations|10.1109/CDC.2008.4739440|[collision avoidance, decentralised control, mobile robots, remotely operated vehicles, space vehicles, autonomous UAV formations, avoiding obstacles, close target reconnaissance, control architecture, decentralized control scheme, equilateral triangular formation, inter-agent collisions, no-fly-zones, target position, unidirectional sensing, unmanned aerial vehicles]|39        |2008|0191-2216 E-ISBN : 978-1-4244-3124-3|[http://ieeexplore.ieee.org/xpl/abstractAuthors.jsp?tp=&arnumber=4739440, http://dx.doi.org/10.1109/CDC.2008.4739440, http://www.webofknowledge.com/]|In this paper the problem of close target reconnaissance by a formation of 3 unmanned aerial vehicles (UAVs) is considered. The overall close target reconnaissance (CTR) involves subtasks of avoiding obstacles or no-fly-zones, avoiding inter-agent collisions, reaching a close vicinity of a specified target position, and forming an equilateral triangular formation around the target. The UAVs performing the task fly at constant speeds. A decentralized control scheme is developed for this overall task considering unidirectional sensing/control architecture. Relevant analysis and simulation test results are provided.|[{562d71f145cedb3398e0b05a, Iman Shames, Res. Sch. of Inf. Sci. & Eng., Australian Nat. Univeristy, Canberra, ACT, Australia|c|}, {56316ff245cedb3399df815b, Baris Fidan, Australian Natl Univ, Res Sch Informat Sci & Engn, Canberra, ACT 0200, Australia}, {5631b9bb45cedb3399efe923, Brian D. O. Anderson, Australian Natl Univ, Res Sch Informat Sci & Engn, Canberra, ACT 0200, Australia}]|Conference|[{1981999085, I. Shames, Res. Sch. of Inf. Sci. & Eng., Australian Nat. Univeristy, Canberra, ACT, Australia}, {2028148069, B. Fidan, Res. Sch. of Inf. Sci. & Eng., Australian Nat. Univeristy, Canberra, ACT, Australia}, {2163898492, B. Anderson, Res. Sch. of Inf. Sci. & Eng., Australian Nat. Univeristy, Canberra, ACT, Australia}]|[53e9a33db7602d9702c48b6f, 558a5c21e4b0b32fcb3659e3, 53e99905b7602d970213fd9e, 53e99b2cb7602d97023c7088, 53e9bd24b7602d97049b2550, 558a5c21e4b0b32fcb3659e3]|2121044092|\n",
      "+------------------------+-----------------------------------------------------------+------------------------+----------------------------------------------------------------------------------------------------------------------------------------------------------------------------------------------------------------------------------------------------------------------------------------------------------------------------------------------------------------------------------+----------+----+------------------------------------+-----------------------------------------------------------------------------------------------------------------------------------------------------+--------------------------------------------------------------------------------------------------------------------------------------------------------------------------------------------------------------------------------------------------------------------------------------------------------------------------------------------------------------------------------------------------------------------------------------------------------------------------------------------------------------------------------------------------------------------------------------------------------------------------------------------+------------------------------------------------------------------------------------------------------------------------------------------------------------------------------------------------------------------------------------------------------------------------------------------------------------------------------------------------------------------------------------------------+----------+-------------------------------------------------------------------------------------------------------------------------------------------------------------------------------------------------------------------------------------------------------------------------------------------------------------------------------------------+------------------------------------------------------------------------------------------------------------------------------------------------------------+----------+\n",
      "\n"
     ]
    },
    {
     "data": {
      "text/plain": [
       "jsonFilePath: String = id2221/data/dblp_v14-part2266-3.json\n",
       "papersDF: org.apache.spark.sql.DataFrame = [id: string, title: string ... 12 more fields]\n"
      ]
     },
     "execution_count": 6,
     "metadata": {},
     "output_type": "execute_result"
    }
   ],
   "source": [
    "val jsonFilePath = \"id2221/data/dblp_v14-part2266-3.json\"\n",
    "\n",
    "val papersDF = spark.read.option(\"multiline\", \"true\")\n",
    "    .json(jsonFilePath)\n",
    "    .select(\n",
    "        \"id\",\n",
    "        \"title\",\n",
    "        \"doi\",\n",
    "        \"keywords\",\n",
    "        \"n_citation\",\n",
    "        \"year\",\n",
    "        \"issn\",\n",
    "        \"url\",\n",
    "        \"abstract\",\n",
    "        \"authors\",\n",
    "        \"doc_type\",\n",
    "        \"v12_authors\",\n",
    "        \"references\",\n",
    "        \"v12_id\"\n",
    "    )\n",
    "\n",
    "// View the schema\n",
    "papersDF.printSchema()\n",
    "\n",
    "// Show a few rows of the DataFrame\n",
    "papersDF.show(1, truncate = false)"
   ]
  },
  {
   "cell_type": "code",
   "execution_count": 7,
   "id": "5db87df9-b20b-429a-8517-f908c1b92125",
   "metadata": {},
   "outputs": [
    {
     "data": {
      "text/plain": [
       "vertices: org.apache.spark.rdd.RDD[(org.apache.spark.graphx.VertexId, (String, String, Long))] = MapPartitionsRDD[12] at map at <console>:39\n"
      ]
     },
     "execution_count": 7,
     "metadata": {},
     "output_type": "execute_result"
    }
   ],
   "source": [
    "val vertices: RDD[(VertexId, (String, String, Long))] = papersDF\n",
    "    .select(\"id\", \"title\", \"year\")\n",
    "    .rdd\n",
    "    .map(row => (row.getAs[String](\"id\").hashCode.toLong, (row.getAs[String](\"id\"), row.getAs[String](\"title\"), row.getAs[Long](\"year\"))))"
   ]
  },
  {
   "cell_type": "code",
   "execution_count": 8,
   "id": "d61d82ff-cedd-4495-886d-410e760058ce",
   "metadata": {},
   "outputs": [
    {
     "data": {
      "text/plain": [
       "edges: org.apache.spark.rdd.RDD[org.apache.spark.graphx.Edge[String]] = MapPartitionsRDD[18] at flatMap at <console>:39\n"
      ]
     },
     "execution_count": 8,
     "metadata": {},
     "output_type": "execute_result"
    }
   ],
   "source": [
    "val edges: RDD[Edge[String]] = papersDF\n",
    "    .select(\"id\", \"references\")\n",
    "    .rdd\n",
    "    .flatMap(row => {\n",
    "        val paperId = row.getAs[String](\"id\").hashCode.toLong\n",
    "        val references = row.getAs[Seq[String]](\"references\")\n",
    "        \n",
    "        // Check if references is not null before mapping\n",
    "        if (references != null) {\n",
    "            references.map(ref => Edge(paperId, ref.hashCode.toLong, \"cites\"))\n",
    "        } else {\n",
    "            // If references is null, return an empty list\n",
    "            Seq.empty[Edge[String]]\n",
    "        }\n",
    "    })"
   ]
  },
  {
   "cell_type": "code",
   "execution_count": 9,
   "id": "e527a333-7121-44aa-a72c-306f8adc226a",
   "metadata": {},
   "outputs": [
    {
     "data": {
      "text/plain": [
       "graph: org.apache.spark.graphx.Graph[(String, String, Long),String] = org.apache.spark.graphx.impl.GraphImpl@4b5d0c5c\n"
      ]
     },
     "execution_count": 9,
     "metadata": {},
     "output_type": "execute_result"
    }
   ],
   "source": [
    "val graph: Graph[(String, String, Long), String] = Graph(vertices, edges)"
   ]
  },
  {
   "cell_type": "code",
   "execution_count": 10,
   "id": "f5fc8254-1f8f-47f6-913d-ae3d946bb3de",
   "metadata": {},
   "outputs": [
    {
     "name": "stdout",
     "output_type": "stream",
     "text": [
      "(-1489633663,558b11bde4b031bae1fb5972,Close target reconnaissance using autonomous UAV formations,2008)\n"
     ]
    },
    {
     "data": {
      "text/plain": [
       "connectedComponents: org.apache.spark.graphx.VertexRDD[org.apache.spark.graphx.VertexId] = VertexRDDImpl[68] at RDD at VertexRDD.scala:57\n",
       "connectedComponentsWithTitles: org.apache.spark.rdd.RDD[(org.apache.spark.graphx.VertexId, String, String, Long)] = MapPartitionsRDD[86] at map at <console>:40\n"
      ]
     },
     "execution_count": 10,
     "metadata": {},
     "output_type": "execute_result"
    }
   ],
   "source": [
    "val connectedComponents = graph.connectedComponents().vertices\n",
    "\n",
    "// Join the connected component ID with the paper titles for interpretation\n",
    "val connectedComponentsWithTitles = connectedComponents.join(vertices).map {\n",
    "    case (id, (componentId, (paperId, title, year))) => (componentId, paperId, title, year)\n",
    "}\n",
    "\n",
    "connectedComponentsWithTitles.take(10).foreach(println)"
   ]
  },
  {
   "cell_type": "code",
   "execution_count": 12,
   "id": "dcbacf9d-cdb8-49c8-893f-a8db2bc423a1",
   "metadata": {},
   "outputs": [
    {
     "data": {
      "text/plain": [
       "import scala.util.Random\n",
       "validVertexIds: Set[org.apache.spark.graphx.VertexId] = Set(913341741)\n",
       "filteredEdges: org.apache.spark.rdd.RDD[org.apache.spark.graphx.Edge[String]] = MapPartitionsRDD[93] at filter at <console>:60\n",
       "random: scala.util.Random = scala.util.Random@7ad73064\n",
       "nodesJSON: List[org.json4s.JsonAST.JObject] = List(JObject(List((id,JInt(913341741)), (label,JString(Close target reconnaissance using autonomous UAV formations)), (x,JDouble(91.52470611315718)), (y,JDouble(73.11589797952477)), (size,JInt(3)))))\n",
       "edgesJSON: List[org.json4s.JsonAST.JObject] = List()\n",
       "graphJSON: org.json4s.JsonAST.JObject = JObject(List((nodes,JArray(List(JObject(List((id,JInt(913341741)), (label,JString(Close target reconnaissance using autonomous UAV formations)), (x,JDouble(91.52470611315718)), (y,...\n"
      ]
     },
     "execution_count": 12,
     "metadata": {},
     "output_type": "execute_result"
    }
   ],
   "source": [
    "import scala.util.Random\n",
    "\n",
    "// Step 1: Collect valid vertex IDs into a Set\n",
    "val validVertexIds: Set[VertexId] = vertices.map(_._1).collect().toSet\n",
    "\n",
    "// Step 2: Filter edges to include only those that point to valid vertices\n",
    "val filteredEdges = edges.filter { edge =>\n",
    "    validVertexIds.contains(edge.srcId) && validVertexIds.contains(edge.dstId)\n",
    "}\n",
    "\n",
    "// Step 3: Convert vertices to Sigma.js format\n",
    "val random = new Random()\n",
    "val nodesJSON = vertices.map { case (id, (paperId, title, year)) =>\n",
    "  // Generate random coordinates (you may want to adjust the range as needed)\n",
    "  val x = random.nextDouble() * 800  // Assuming width of SVG is 800\n",
    "  val y = random.nextDouble() * 600  // Assuming height of SVG is 600\n",
    "  JObject(\n",
    "    \"id\" -> JInt(id), // Use paperId as the id for the node\n",
    "    \"label\" -> JString(title),\n",
    "    \"x\" -> JDouble(x),  // Use the generated x coordinate\n",
    "    \"y\" -> JDouble(y),  // Use the generated y coordinate\n",
    "    \"size\" -> JInt(3)   // Size can be arbitrary; adjust as necessary\n",
    "  )\n",
    "}.collect().toList\n",
    "\n",
    "// Step 4: Convert the filtered edges RDD to a JSON array (JArray)\n",
    "val edgesJSON = filteredEdges.zipWithIndex.map { case (Edge(srcId, dstId, relationship), index) =>\n",
    "  JObject(\n",
    "    \"id\" -> JString(\"e\" + index), // Create a unique id for each edge\n",
    "    \"source\" -> JInt(srcId),\n",
    "    \"target\" -> JInt(dstId)\n",
    "  )\n",
    "}.collect().toList\n",
    "\n",
    "// Step 5: Combine nodes and edges into a single JSON object for Sigma\n",
    "val graphJSON: JObject = JObject(\n",
    "  \"nodes\" -> JArray(nodesJSON),\n",
    "  \"edges\" -> JArray(edgesJSON)\n",
    ")\n",
    "\n",
    "// Step 6: Convert to compact JSON string\n",
    "val jsonString = compact(render(graphJSON))\n",
    "\n",
    "// Step 7: Write the JSON to a file for Sigma.js\n",
    "Files.write(Paths.get(\"./graph2.json\"), jsonString.getBytes)\n"
   ]
  }
 ],
 "metadata": {
  "kernelspec": {
   "display_name": "spylon-kernel",
   "language": "scala",
   "name": "spylon-kernel"
  },
  "language_info": {
   "codemirror_mode": "text/x-scala",
   "file_extension": ".scala",
   "help_links": [
    {
     "text": "MetaKernel Magics",
     "url": "https://metakernel.readthedocs.io/en/latest/source/README.html"
    }
   ],
   "mimetype": "text/x-scala",
   "name": "scala",
   "pygments_lexer": "scala",
   "version": "0.4.1"
  }
 },
 "nbformat": 4,
 "nbformat_minor": 5
}
