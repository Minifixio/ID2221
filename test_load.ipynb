{
 "cells": [
  {
   "cell_type": "code",
   "execution_count": 34,
   "id": "503f381f-162a-4a11-a621-c11aa8198a53",
   "metadata": {},
   "outputs": [
    {
     "name": "stdout",
     "output_type": "stream",
     "text": [
      "Hello\n"
     ]
    }
   ],
   "source": [
    "println(\"Hello\")"
   ]
  },
  {
   "cell_type": "code",
   "execution_count": 35,
   "id": "38af41fc-67fd-478a-beae-e709905c9d7d",
   "metadata": {},
   "outputs": [
    {
     "data": {
      "text/plain": [
       "import org.apache.spark.sql.SparkSession\n",
       "import org.apache.spark.sql.functions._\n",
       "import org.apache.spark.graphx._\n",
       "import org.apache.spark.rdd.RDD\n"
      ]
     },
     "execution_count": 35,
     "metadata": {},
     "output_type": "execute_result"
    }
   ],
   "source": [
    "import org.apache.spark.sql.SparkSession\n",
    "import org.apache.spark.sql.functions._\n",
    "import org.apache.spark.graphx._\n",
    "import org.apache.spark.rdd.RDD"
   ]
  },
  {
   "cell_type": "code",
   "execution_count": 36,
   "id": "afcc7b6f-c1e0-4251-b1e9-19b63c747c3d",
   "metadata": {},
   "outputs": [
    {
     "data": {
      "text/plain": [
       "spark: org.apache.spark.sql.SparkSession = org.apache.spark.sql.SparkSession@67ffe9e7\n",
       "import spark.implicits._\n"
      ]
     },
     "execution_count": 36,
     "metadata": {},
     "output_type": "execute_result"
    }
   ],
   "source": [
    "val spark = SparkSession.builder()\n",
    "    .appName(\"AcademicGraphAnalysis\")\n",
    "    .getOrCreate()\n",
    "spark.conf.set(\"spark.sql.caseSensitive\", true)\n",
    "import spark.implicits._"
   ]
  },
  {
   "cell_type": "code",
   "execution_count": 37,
   "id": "bc865a9a-1be4-4eec-958b-c03258255996",
   "metadata": {},
   "outputs": [
    {
     "name": "stdout",
     "output_type": "stream",
     "text": [
      "root\n",
      " |-- id: string (nullable = true)\n",
      " |-- title: string (nullable = true)\n",
      " |-- doi: string (nullable = true)\n",
      " |-- keywords: array (nullable = true)\n",
      " |    |-- element: string (containsNull = true)\n",
      " |-- n_citation: long (nullable = true)\n",
      " |-- year: long (nullable = true)\n",
      " |-- issn: string (nullable = true)\n",
      " |-- url: array (nullable = true)\n",
      " |    |-- element: string (containsNull = true)\n",
      " |-- abstract: string (nullable = true)\n",
      " |-- authors: array (nullable = true)\n",
      " |    |-- element: struct (containsNull = true)\n",
      " |    |    |-- id: string (nullable = true)\n",
      " |    |    |-- name: string (nullable = true)\n",
      " |    |    |-- org: string (nullable = true)\n",
      " |-- doc_type: string (nullable = true)\n",
      " |-- v12_authors: array (nullable = true)\n",
      " |    |-- element: struct (containsNull = true)\n",
      " |    |    |-- id: long (nullable = true)\n",
      " |    |    |-- name: string (nullable = true)\n",
      " |    |    |-- org: string (nullable = true)\n",
      " |-- references: array (nullable = true)\n",
      " |    |-- element: string (containsNull = true)\n",
      " |-- v12_id: long (nullable = true)\n",
      "\n",
      "+------------------------+-----------------------------------------------------------+------------------------+----------------------------------------------------------------------------------------------------------------------------------------------------------------------------------------------------------------------------------------------------------------------------------------------------------------------------------------------------------------------------------+----------+----+------------------------------------+-----------------------------------------------------------------------------------------------------------------------------------------------------+--------------------------------------------------------------------------------------------------------------------------------------------------------------------------------------------------------------------------------------------------------------------------------------------------------------------------------------------------------------------------------------------------------------------------------------------------------------------------------------------------------------------------------------------------------------------------------------------------------------------------------------------+------------------------------------------------------------------------------------------------------------------------------------------------------------------------------------------------------------------------------------------------------------------------------------------------------------------------------------------------------------------------------------------------+----------+-------------------------------------------------------------------------------------------------------------------------------------------------------------------------------------------------------------------------------------------------------------------------------------------------------------------------------------------+------------------------------------------------------------------------------------------------------------------------------------------------------------+----------+\n",
      "|id                      |title                                                      |doi                     |keywords                                                                                                                                                                                                                                                                                                                                                                          |n_citation|year|issn                                |url                                                                                                                                                  |abstract                                                                                                                                                                                                                                                                                                                                                                                                                                                                                                                                                                                                                                    |authors                                                                                                                                                                                                                                                                                                                                                                                         |doc_type  |v12_authors                                                                                                                                                                                                                                                                                                                                |references                                                                                                                                                  |v12_id    |\n",
      "+------------------------+-----------------------------------------------------------+------------------------+----------------------------------------------------------------------------------------------------------------------------------------------------------------------------------------------------------------------------------------------------------------------------------------------------------------------------------------------------------------------------------+----------+----+------------------------------------+-----------------------------------------------------------------------------------------------------------------------------------------------------+--------------------------------------------------------------------------------------------------------------------------------------------------------------------------------------------------------------------------------------------------------------------------------------------------------------------------------------------------------------------------------------------------------------------------------------------------------------------------------------------------------------------------------------------------------------------------------------------------------------------------------------------+------------------------------------------------------------------------------------------------------------------------------------------------------------------------------------------------------------------------------------------------------------------------------------------------------------------------------------------------------------------------------------------------+----------+-------------------------------------------------------------------------------------------------------------------------------------------------------------------------------------------------------------------------------------------------------------------------------------------------------------------------------------------+------------------------------------------------------------------------------------------------------------------------------------------------------------+----------+\n",
      "|558b11bde4b031bae1fb5972|Close target reconnaissance using autonomous UAV formations|10.1109/CDC.2008.4739440|[collision avoidance, decentralised control, mobile robots, remotely operated vehicles, space vehicles, autonomous UAV formations, avoiding obstacles, close target reconnaissance, control architecture, decentralized control scheme, equilateral triangular formation, inter-agent collisions, no-fly-zones, target position, unidirectional sensing, unmanned aerial vehicles]|39        |2008|0191-2216 E-ISBN : 978-1-4244-3124-3|[http://ieeexplore.ieee.org/xpl/abstractAuthors.jsp?tp=&arnumber=4739440, http://dx.doi.org/10.1109/CDC.2008.4739440, http://www.webofknowledge.com/]|In this paper the problem of close target reconnaissance by a formation of 3 unmanned aerial vehicles (UAVs) is considered. The overall close target reconnaissance (CTR) involves subtasks of avoiding obstacles or no-fly-zones, avoiding inter-agent collisions, reaching a close vicinity of a specified target position, and forming an equilateral triangular formation around the target. The UAVs performing the task fly at constant speeds. A decentralized control scheme is developed for this overall task considering unidirectional sensing/control architecture. Relevant analysis and simulation test results are provided.|[{562d71f145cedb3398e0b05a, Iman Shames, Res. Sch. of Inf. Sci. & Eng., Australian Nat. Univeristy, Canberra, ACT, Australia|c|}, {56316ff245cedb3399df815b, Baris Fidan, Australian Natl Univ, Res Sch Informat Sci & Engn, Canberra, ACT 0200, Australia}, {5631b9bb45cedb3399efe923, Brian D. O. Anderson, Australian Natl Univ, Res Sch Informat Sci & Engn, Canberra, ACT 0200, Australia}]|Conference|[{1981999085, I. Shames, Res. Sch. of Inf. Sci. & Eng., Australian Nat. Univeristy, Canberra, ACT, Australia}, {2028148069, B. Fidan, Res. Sch. of Inf. Sci. & Eng., Australian Nat. Univeristy, Canberra, ACT, Australia}, {2163898492, B. Anderson, Res. Sch. of Inf. Sci. & Eng., Australian Nat. Univeristy, Canberra, ACT, Australia}]|[53e9a33db7602d9702c48b6f, 558a5c21e4b0b32fcb3659e3, 53e99905b7602d970213fd9e, 53e99b2cb7602d97023c7088, 53e9bd24b7602d97049b2550, 558a5c21e4b0b32fcb3659e3]|2121044092|\n",
      "+------------------------+-----------------------------------------------------------+------------------------+----------------------------------------------------------------------------------------------------------------------------------------------------------------------------------------------------------------------------------------------------------------------------------------------------------------------------------------------------------------------------------+----------+----+------------------------------------+-----------------------------------------------------------------------------------------------------------------------------------------------------+--------------------------------------------------------------------------------------------------------------------------------------------------------------------------------------------------------------------------------------------------------------------------------------------------------------------------------------------------------------------------------------------------------------------------------------------------------------------------------------------------------------------------------------------------------------------------------------------------------------------------------------------+------------------------------------------------------------------------------------------------------------------------------------------------------------------------------------------------------------------------------------------------------------------------------------------------------------------------------------------------------------------------------------------------+----------+-------------------------------------------------------------------------------------------------------------------------------------------------------------------------------------------------------------------------------------------------------------------------------------------------------------------------------------------+------------------------------------------------------------------------------------------------------------------------------------------------------------+----------+\n",
      "only showing top 1 row\n",
      "\n"
     ]
    },
    {
     "data": {
      "text/plain": [
       "jsonFilePath: String = dblp_v14-part2266-2.json\n",
       "papersDF: org.apache.spark.sql.DataFrame = [id: string, title: string ... 12 more fields]\n"
      ]
     },
     "execution_count": 37,
     "metadata": {},
     "output_type": "execute_result"
    }
   ],
   "source": [
    "val jsonFilePath = \"dblp_v14-part2266-2.json\"\n",
    "\n",
    "val papersDF = spark.read.option(\"multiline\", \"true\")\n",
    "    .json(jsonFilePath)\n",
    "    .select(\n",
    "        \"id\",\n",
    "        \"title\",\n",
    "        \"doi\",\n",
    "        \"keywords\",\n",
    "        \"n_citation\",\n",
    "        \"year\",\n",
    "        \"issn\",\n",
    "        \"url\",\n",
    "        \"abstract\",\n",
    "        \"authors\",\n",
    "        \"doc_type\",\n",
    "        \"v12_authors\",\n",
    "        \"references\",\n",
    "        \"v12_id\"\n",
    "    )\n",
    "\n",
    "// View the schema to understand the structure\n",
    "papersDF.printSchema()\n",
    "\n",
    "// Show a few rows of the DataFrame\n",
    "papersDF.show(1, truncate = false)"
   ]
  },
  {
   "cell_type": "code",
   "execution_count": 45,
   "id": "5db87df9-b20b-429a-8517-f908c1b92125",
   "metadata": {},
   "outputs": [
    {
     "data": {
      "text/plain": [
       "vertices: org.apache.spark.rdd.RDD[(org.apache.spark.graphx.VertexId, (String, String, Long))] = MapPartitionsRDD[391] at map at <console>:111\n"
      ]
     },
     "execution_count": 45,
     "metadata": {},
     "output_type": "execute_result"
    }
   ],
   "source": [
    "val vertices: RDD[(VertexId, (String, String, Long))] = papersDF\n",
    "    .select(\"id\", \"title\", \"year\")\n",
    "    .rdd\n",
    "    .map(row => (row.getAs[String](\"id\").hashCode.toLong, (row.getAs[String](\"id\"), row.getAs[String](\"title\"), row.getAs[Long](\"year\"))))"
   ]
  },
  {
   "cell_type": "code",
   "execution_count": 39,
   "id": "d61d82ff-cedd-4495-886d-410e760058ce",
   "metadata": {},
   "outputs": [
    {
     "data": {
      "text/plain": [
       "edges: org.apache.spark.rdd.RDD[org.apache.spark.graphx.Edge[String]] = MapPartitionsRDD[227] at flatMap at <console>:98\n"
      ]
     },
     "execution_count": 39,
     "metadata": {},
     "output_type": "execute_result"
    }
   ],
   "source": [
    "val edges: RDD[Edge[String]] = papersDF\n",
    "    .select(\"id\", \"references\")\n",
    "    .rdd\n",
    "    .flatMap(row => {\n",
    "        val paperId = row.getAs[String](\"id\").hashCode.toLong\n",
    "        val references = row.getAs[Seq[String]](\"references\")\n",
    "        \n",
    "        // Check if references is not null before mapping\n",
    "        if (references != null) {\n",
    "            references.map(ref => Edge(paperId, ref.hashCode.toLong, \"cites\"))\n",
    "        } else {\n",
    "            // If references is null, return an empty list\n",
    "            Seq.empty[Edge[String]]\n",
    "        }\n",
    "    })"
   ]
  },
  {
   "cell_type": "code",
   "execution_count": 47,
   "id": "e527a333-7121-44aa-a72c-306f8adc226a",
   "metadata": {},
   "outputs": [
    {
     "data": {
      "text/plain": [
       "graph: org.apache.spark.graphx.Graph[(String, String, Long),String] = org.apache.spark.graphx.impl.GraphImpl@753b26e4\n"
      ]
     },
     "execution_count": 47,
     "metadata": {},
     "output_type": "execute_result"
    }
   ],
   "source": [
    "val graph: Graph[(String, String, Long), String] = Graph(vertices, edges)"
   ]
  },
  {
   "cell_type": "code",
   "execution_count": 48,
   "id": "f5fc8254-1f8f-47f6-913d-ae3d946bb3de",
   "metadata": {},
   "outputs": [
    {
     "name": "stdout",
     "output_type": "stream",
     "text": [
      "(-1897842877,558b108284ae84d265c14849,Accident Risk Analysis and Model Applications of Railway Level Crossings,2008)\n",
      "(-1964527228,558b1090e4b031bae1fb5238,An Enhanced Data-Reduction Algorithm for Event-Triggered Networks,2009)\n",
      "(103442663,558b1092e4b031bae1fb5247,Polarimetric Differential SAR Interferometry: First Results With Ground-Based Measurements,2009)\n",
      "(-216907331,558b11c5e4b031bae1fb59aa,Guidance laws for planar motion control,2008)\n",
      "(-474470741,558b11c6e4b031bae1fb59ae,Geometrical conditions for output depending observability normal form,2008)\n",
      "(-2147335190,558b113fe4b0b32fcb3a8e05,Industrial enterprises business processes simulation with BPsim.MAS,2008)\n",
      "(-1971396260,558b11c3e4b031bae1fb5995,Control of distributed parameter systems subject to convex constraints: Applications to irrigation systems and Hypersonic Vehicles,2008)\n",
      "(-2003521330,558b11c6e4b031bae1fb59ad,Estimation over heterogeneous sensor networks,2008)\n",
      "(-2147335190,558b1140e4b0b32fcb3a8e0c,Emergence of simulations for manufacturing line designs in Japanese automobile manufacturing plants,2008)\n",
      "(-466791026,558b11c1e4b031bae1fb5990,Adaptive spline function based compensation of synthetic jet actuators for aircraft flight control,2008)\n"
     ]
    },
    {
     "data": {
      "text/plain": [
       "connectedComponents: org.apache.spark.graphx.VertexRDD[org.apache.spark.graphx.VertexId] = VertexRDDImpl[526] at RDD at VertexRDD.scala:57\n",
       "connectedComponentsWithTitles: org.apache.spark.rdd.RDD[(org.apache.spark.graphx.VertexId, String, String, Long)] = MapPartitionsRDD[544] at map at <console>:114\n"
      ]
     },
     "execution_count": 48,
     "metadata": {},
     "output_type": "execute_result"
    }
   ],
   "source": [
    "val connectedComponents = graph.connectedComponents().vertices\n",
    "\n",
    "// Join the connected component ID with the paper titles for interpretation\n",
    "val connectedComponentsWithTitles = connectedComponents.join(vertices).map {\n",
    "    case (id, (componentId, (paperId, title, year))) => (componentId, paperId, title, year)\n",
    "}\n",
    "\n",
    "connectedComponentsWithTitles.take(10).foreach(println)"
   ]
  },
  {
   "cell_type": "code",
   "execution_count": 49,
   "id": "29b01211-e850-4ea1-a7eb-3525d97e4991",
   "metadata": {},
   "outputs": [
    {
     "name": "stdout",
     "output_type": "stream",
     "text": [
      "{\"nodes\":[{\"id\":913341741,\"paperId\":\"558b11bde4b031bae1fb5972\",\"title\":\"Close target reconnaissance using autonomous UAV formations\",\"year\":2008},{\"id\":913341744,\"paperId\":\"558b11bde4b031bae1fb5975\",\"title\":\"Input-output analysis of the 2D/3C model in channel flows of viscoelastic fluids\",\"year\":2008},{\"id\":-773990059,\"paperId\":\"558b113ae4b0b32fcb3a8ddf\",\"title\":\"Applicability of hybrid simulation to different modes of governance in UK healthcare\",\"year\":2008},{\"id\":-1135808098,\"paperId\":\"558b107584ae84d265c147fc\",\"title\":\"HMM Based Segmentation of Continuous Eddy Current Sensor Signals\",\"year\":2008},{\"id\":217500835,\"paperId\":\"558b107684ae84d265c14800\",\"title\":\"Implementation of the ERI standard and Evaluation of Applications with several low-cost technologies\",\"year\":2008},{\"id\":-675006111,\"paperId\":\"558b11bfe4b031bae1fb597d\",\"title\":\"Probability of error bounds for failure diagnosis and classification in hidden Markov models\",\"year\":2008},{\"id\":217500836,\"paperId\":\"558b107684ae84d265c14801\",\"title\":\"Gradient Projection Algorithm Using Curry's Steplength for Traffic Assignment\",\"year\":2008},{\"id\":-675006110,\"paperId\":\"558b11bfe4b031bae1fb597e\",\"title\":\"Urban traffic control problem a game theory approach\",\"year\":2008},{\"id\":217500841,\"paperId\":\"558b107684ae84d265c14806\",\"title\":\"Traffic Impact Assessment of Incident Management Strategies\",\"year\":2008},{\"id\":-309494965,\"paperId\":\"558b108084ae84d265c1483b\",\"title\":\"Comparative synthesis of the 3 main European projects dealing with Cooperative Systems (CVIS, SAFESPOT and COOPERS) and description of COOPERS Demonstration Site 4\",\"year\":2008},{\"id\":-309494961,\"paperId\":\"558b108084ae84d265c1483f\",\"title\":\"Fuzzy Trip Distribution Models for Discretionary Trips\",\"year\":2008},{\"id\":-1736358089,\"paperId\":\"558b11c0e4b031bae1fb5982\",\"title\":\"Dual Lyapunov stability analysis in behavioral approach\",\"year\":2008},{\"id\":1932629363,\"paperId\":\"558b113ce4b0b32fcb3a8dec\",\"title\":\"Pandemic influenza response\",\"year\":2008},{\"id\":-1736358084,\"paperId\":\"558b11c0e4b031bae1fb5987\",\"title\":\"Mixed state estimation for a linear Gaussian Markov model\",\"year\":2008},{\"id\":1043814715,\"paperId\":\"558b108184ae84d265c14842\",\"title\":\"Improving the Generalization Properties of Neural Networks: an Application to Vehicle Detection\",\"year\":2008},{\"id\":1932629343,\"paperId\":\"558b113ce4b0b32fcb3a8df0\",\"title\":\"Discrete event simulation: Optimizing patient flow and redesign in a replacement facility\",\"year\":2008},{\"id\":-1009028250,\"paperId\":\"558b113de4b0b32fcb3a8df6\",\"title\":\"Parallel simulation of the global epidemiology of Avian Influenza\",\"year\":2008},{\"id\":-1897842877,\"paperId\":\"558b108284ae84d265c14849\",\"title\":\"Accident Risk Analysis and Model Applications of Railway Level Crossings\",\"year\":2008},{\"id\":-1897842837,\"paperId\":\"558b108284ae84d265c1484a\",\"title\":\"Dangerous Prediction by Case-Based Approach on Expressways\",\"year\":2008},{\"id\":-1897842836,\"paperId\":\"558b108284ae84d265c1484b\",\"title\":\"Estimating Pedestrian Movement Characteristics for Crowd Control at Public Transport Facilities\",\"year\":2008},{\"id\":-383048341,\"paperId\":\"558b11c1e4b031bae1fb598e\",\"title\":\"Convex optimization in robust identification of nonlinear feedback\",\"year\":2008},{\"id\":-383048363,\"paperId\":\"558b11c1e4b031bae1fb5990\",\"title\":\"Adaptive spline function based compensation of synthetic jet actuators for aircraft flight control\",\"year\":2008},{\"id\":970261337,\"paperId\":\"558b11c2e4b031bae1fb5993\",\"title\":\"Equivalence to dissipative Hamiltonian realization\",\"year\":2008},{\"id\":344281490,\"paperId\":\"558b113ee4b0b32fcb3a8dfa\",\"title\":\"Speeding up call center simulation and optimization by Markov chain uniformization\",\"year\":2008},{\"id\":808776543,\"paperId\":\"558b108484ae84d265c14854\",\"title\":\"Optimization of traffic flows in congested metropolitan areas\",\"year\":2008},{\"id\":-1897842879,\"paperId\":\"558b108284ae84d265c14847\",\"title\":\"A Reliable Hybrid Prediction Model for Real-time Travel Time Prediction with Widely Spaced Detectors\",\"year\":2008},{\"id\":808776546,\"paperId\":\"558b108484ae84d265c14857\",\"title\":\"A statistical approach to map matching using road network geometry, topology and vehicular motion constraints\",\"year\":2008},{\"id\":-1971396260,\"paperId\":\"558b11c3e4b031bae1fb5995\",\"title\":\"Control of distributed parameter systems subject to convex constraints: Applications to irrigation systems and Hypersonic Vehicles\",\"year\":2008},{\"id\":808776542,\"paperId\":\"558b108484ae84d265c14853\",\"title\":\"Optimal Parameter Settings for Adaptive Traffic-Actuated Signal Control\",\"year\":2008},{\"id\":-1971396258,\"paperId\":\"558b11c3e4b031bae1fb5997\",\"title\":\"Optimal stopping for event-triggered sensing and actuation\",\"year\":2008},{\"id\":-1971396257,\"paperId\":\"558b11c3e4b031bae1fb5998\",\"title\":\"Distributed policies for equitable partitioning: Theory and applications\",\"year\":2008},{\"id\":1697590429,\"paperId\":\"558b113fe4b0b32fcb3a8e04\",\"title\":\"Simulation-based verification of lean improvement for emergency room process\",\"year\":2008},{\"id\":808776548,\"paperId\":\"558b108484ae84d265c14859\",\"title\":\"Curb Detection Based on a Multi-Frame Persistence Map for Urban Driving Scenarios\",\"year\":2008},{\"id\":-1971396256,\"paperId\":\"558b11c3e4b031bae1fb5999\",\"title\":\"Fast and optimal sensor scheduling for networked sensor systems\",\"year\":2008},{\"id\":1697590430,\"paperId\":\"558b113fe4b0b32fcb3a8e05\",\"title\":\"Industrial enterprises business processes simulation with BPsim.MAS\",\"year\":2008},{\"id\":913341742,\"paperId\":\"558b11bde4b031bae1fb5973\",\"title\":\"Robust analysis with respect to real parameter uncertainty\",\"year\":2008},{\"id\":344281493,\"paperId\":\"558b113ee4b0b32fcb3a8dfd\",\"title\":\"Simulation of process execution monitoring and adjustment schemes\",\"year\":2008},{\"id\":-618085324,\"paperId\":\"558b11c4e4b031bae1fb59a4\",\"title\":\"Robust adaptive control of a twin-roaor Aircraft\",\"year\":2008},{\"id\":-2132881009,\"paperId\":\"558b108584ae84d265c1485c\",\"title\":\"A Concept for Ubiquitous Transportation Systems and Related Development Methodology\",\"year\":2008},{\"id\":636238517,\"paperId\":\"558b1140e4b0b32fcb3a8e0c\",\"title\":\"Emergence of simulations for manufacturing line designs in Japanese automobile manufacturing plants\",\"year\":2008},{\"id\":735224418,\"paperId\":\"558b11c5e4b031bae1fb59aa\",\"title\":\"Guidance laws for planar motion control\",\"year\":2008},{\"id\":1989548197,\"paperId\":\"558b1141e4b0b32fcb3a8e13\",\"title\":\"Clarifying CONWIP versus push system behavior using simulation\",\"year\":2008},{\"id\":735224419,\"paperId\":\"558b11c5e4b031bae1fb59ab\",\"title\":\"Distributed computation under bit constraints\",\"year\":2008},{\"id\":-1964527228,\"paperId\":\"558b1090e4b031bae1fb5238\",\"title\":\"An Enhanced Data-Reduction Algorithm for Event-Triggered Networks\",\"year\":2009},{\"id\":2088534118,\"paperId\":\"558b11c6e4b031bae1fb59ad\",\"title\":\"Estimation over heterogeneous sensor networks\",\"year\":2008},{\"id\":2088534119,\"paperId\":\"558b11c6e4b031bae1fb59ae\",\"title\":\"Geometrical conditions for output depending observability normal form\",\"year\":2008},{\"id\":742092196,\"paperId\":\"558b1092e4b031bae1fb5247\",\"title\":\"Polarimetric Differential SAR Interferometry: First Results With Ground-Based Measurements\",\"year\":2009},{\"id\":735224377,\"paperId\":\"558b11c5e4b031bae1fb59a8\",\"title\":\"On hybrid diffusions\",\"year\":2008},{\"id\":-854992323,\"paperId\":\"558b108de4b0b32fcb3a89a9\",\"title\":\"Intelligent social network modeling and analysis\",\"year\":2008}],\"links\":[{\"source\":-675006110,\"target\":913341741,\"relationship\":\"cites\"},{\"source\":-309494961,\"target\":-1736358089,\"relationship\":\"cites\"},{\"source\":1932629343,\"target\":-1736358089,\"relationship\":\"cites\"},{\"source\":808776546,\"target\":-1736358089,\"relationship\":\"cites\"},{\"source\":808776548,\"target\":-1736358089,\"relationship\":\"cites\"},{\"source\":344281493,\"target\":-1736358089,\"relationship\":\"cites\"},{\"source\":2088534118,\"target\":-618085324,\"relationship\":\"cites\"},{\"source\":735224377,\"target\":-618085324,\"relationship\":\"cites\"},{\"source\":-854992323,\"target\":-618085324,\"relationship\":\"cites\"}]}\n"
     ]
    },
    {
     "data": {
      "text/plain": [
       "import org.json4s.JsonDSL._\n",
       "import org.json4s.JsonAST._\n",
       "import org.json4s.jackson.JsonMethods._\n",
       "import org.apache.spark.graphx._\n",
       "import java.nio.file.{Files, Paths}\n",
       "verticesJSON: org.json4s.JsonAST.JArray = JArray(List(JObject(List((id,JInt(913341741)), (paperId,JString(558b11bde4b031bae1fb5972)), (title,JString(Close target reconnaissance using autonomous UAV formations)), (year,JInt(2008)))), JObject(List((id,JInt(913341744)), (paperId,JString(558b11bde4b031bae1fb5975)), (title,JString(Input-output analysis of the 2D/3C model in channel flows of viscoelastic fluids)), (year,JInt(2008)))), JObject(List((id,JInt(-773990059)), (paperId,JString(558b113ae4b0b32fcb3a8ddf)), (title,JString(Applicability of hybrid simulation to different modes of governance in UK healthcare)), (year,JInt(2008...\n"
      ]
     },
     "execution_count": 49,
     "metadata": {},
     "output_type": "execute_result"
    }
   ],
   "source": [
    "import org.json4s.JsonDSL._        // For the `~` operator\n",
    "import org.json4s.JsonAST._        // For working with JSON objects\n",
    "import org.json4s.jackson.JsonMethods._  // For rendering JSON\n",
    "import org.apache.spark.graphx._   // For GraphX\n",
    "import java.nio.file.{Files, Paths} // For writing to file\n",
    "\n",
    "// Assuming 'vertices' and 'edges' RDDs are already built using your graph\n",
    "\n",
    "// Convert the vertices RDD to a JSON array (JArray)\n",
    "val verticesJSON: JArray = JArray(vertices.map { case (id, (paperId, title, year)) =>\n",
    "  JObject(\n",
    "    \"id\" -> JInt(id),\n",
    "    \"paperId\" -> JString(paperId),\n",
    "    \"title\" -> JString(title),\n",
    "    \"year\" -> JInt(year)\n",
    "  )\n",
    "}.collect().toList)  // Collect to List[JObject] before constructing JArray\n",
    "\n",
    "// Step 1: Collect valid vertex IDs into a Set\n",
    "val validVertexIds: Set[VertexId] = vertices.map(_._1).collect().toSet\n",
    "\n",
    "// Step 2: Convert the edges RDD to a JSON array (JArray) with filtering\n",
    "val edgesJSON: JArray = JArray(edges.filter { edge =>\n",
    "    // Only include edges where both source and target are valid\n",
    "    validVertexIds.contains(edge.srcId) && validVertexIds.contains(edge.dstId)\n",
    "}.map { case Edge(srcId, dstId, relationship) =>\n",
    "    JObject(\n",
    "        \"source\" -> JInt(srcId),\n",
    "        \"target\" -> JInt(dstId),\n",
    "        \"relationship\" -> JString(relationship)\n",
    "    )\n",
    "}.collect().toList)  // Collect to List[JObject] before constructing JArray\n",
    "\n",
    "// Combine vertices and edges into a single JSON object\n",
    "val graphJSON: JObject = JObject(\n",
    "    \"nodes\" -> JArray(vertices.map { case (id, (paperId, title, year)) =>\n",
    "        JObject(\n",
    "            \"id\" -> JInt(id),\n",
    "            \"paperId\" -> JString(paperId),\n",
    "            \"title\" -> JString(title),\n",
    "            \"year\" -> JInt(year)\n",
    "        )\n",
    "    }.collect().toList),\n",
    "    \"links\" -> edgesJSON\n",
    ")\n",
    "\n",
    "// Convert to compact JSON string\n",
    "val jsonString = compact(render(graphJSON))\n",
    "\n",
    "// Print the JSON (for debugging purposes)\n",
    "// println(jsonString)\n",
    "\n",
    "// Write the JSON to a file\n",
    "Files.write(Paths.get(\"./graph.json\"), jsonString.getBytes)\n"
   ]
  },
  {
   "cell_type": "code",
   "execution_count": 58,
   "id": "dcbacf9d-cdb8-49c8-893f-a8db2bc423a1",
   "metadata": {},
   "outputs": [
    {
     "data": {
      "text/plain": [
       "import scala.util.Random\n",
       "validVertexIds: Set[org.apache.spark.graphx.VertexId] = Set(217500836, 1697590430, 344281490, 970261337, -1971396257, -1897842837, -773990059, 2088534119, -309494961, -309494965, -1897842877, -383048363, -1971396256, 217500841, -2132881009, 913341741, -675006111, -1971396260, -854992323, 735224419, 742092196, -383048341, 2088534118, 808776546, 808776542, 636238517, 1932629363, -1964527228, 913341744, 1989548197, -1736358089, 735224377, 1043814715, -1135808098, 735224418, -1897842836, 913341742, -675006110, 1932629343, -1736358084, -1971396258, -1897842879, 808776543, 217500835, 1697590429, -618085324, 344281493, 808776548, -1009028250)\n",
       "filteredEdges: org.apache.spark.rdd.RDD[org.apache.spark.graphx.Edge[String]] = MapPartitionsRDD[581] at filter at <console>:134...\n"
      ]
     },
     "execution_count": 58,
     "metadata": {},
     "output_type": "execute_result"
    }
   ],
   "source": [
    "import scala.util.Random\n",
    "\n",
    "// Step 1: Collect valid vertex IDs into a Set\n",
    "val validVertexIds: Set[VertexId] = vertices.map(_._1).collect().toSet\n",
    "\n",
    "// Step 2: Filter edges to include only those that point to valid vertices\n",
    "val filteredEdges = edges.filter { edge =>\n",
    "    validVertexIds.contains(edge.srcId) && validVertexIds.contains(edge.dstId)\n",
    "}\n",
    "\n",
    "// Step 3: Convert vertices to Sigma.js format\n",
    "val random = new Random()\n",
    "val nodesJSON = vertices.map { case (id, (paperId, title, year)) =>\n",
    "  // Generate random coordinates (you may want to adjust the range as needed)\n",
    "  val x = random.nextDouble() * 800  // Assuming width of SVG is 800\n",
    "  val y = random.nextDouble() * 600  // Assuming height of SVG is 600\n",
    "  JObject(\n",
    "    \"id\" -> JInt(id), // Use paperId as the id for the node\n",
    "    \"label\" -> JString(title),\n",
    "    \"x\" -> JDouble(x),  // Use the generated x coordinate\n",
    "    \"y\" -> JDouble(y),  // Use the generated y coordinate\n",
    "    \"size\" -> JInt(3)   // Size can be arbitrary; adjust as necessary\n",
    "  )\n",
    "}.collect().toList\n",
    "\n",
    "// Step 4: Convert the filtered edges RDD to a JSON array (JArray)\n",
    "val edgesJSON = filteredEdges.zipWithIndex.map { case (Edge(srcId, dstId, relationship), index) =>\n",
    "  JObject(\n",
    "    \"id\" -> JString(\"e\" + index), // Create a unique id for each edge\n",
    "    \"source\" -> JInt(srcId),\n",
    "    \"target\" -> JInt(dstId)\n",
    "  )\n",
    "}.collect().toList\n",
    "\n",
    "// Step 5: Combine nodes and edges into a single JSON object for Sigma\n",
    "val graphJSON: JObject = JObject(\n",
    "  \"nodes\" -> JArray(nodesJSON),\n",
    "  \"edges\" -> JArray(edgesJSON)\n",
    ")\n",
    "\n",
    "// Step 6: Convert to compact JSON string\n",
    "val jsonString = compact(render(graphJSON))\n",
    "\n",
    "// Step 7: Write the JSON to a file for Sigma.js\n",
    "Files.write(Paths.get(\"./graph2.json\"), jsonString.getBytes)\n"
   ]
  },
  {
   "cell_type": "code",
   "execution_count": null,
   "id": "0de33ba8-bc22-4e7e-ae26-42ac0f6c07ff",
   "metadata": {},
   "outputs": [],
   "source": []
  },
  {
   "cell_type": "code",
   "execution_count": null,
   "id": "b0d9403f-fa19-432d-9f77-18ac93a84dd0",
   "metadata": {},
   "outputs": [],
   "source": []
  }
 ],
 "metadata": {
  "kernelspec": {
   "display_name": "spylon-kernel",
   "language": "scala",
   "name": "spylon-kernel"
  },
  "language_info": {
   "codemirror_mode": "text/x-scala",
   "file_extension": ".scala",
   "help_links": [
    {
     "text": "MetaKernel Magics",
     "url": "https://metakernel.readthedocs.io/en/latest/source/README.html"
    }
   ],
   "mimetype": "text/x-scala",
   "name": "scala",
   "pygments_lexer": "scala",
   "version": "0.4.1"
  }
 },
 "nbformat": 4,
 "nbformat_minor": 5
}
